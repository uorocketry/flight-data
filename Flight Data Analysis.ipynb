{
 "cells": [
  {
   "cell_type": "code",
   "execution_count": 157,
   "metadata": {},
   "outputs": [],
   "source": [
    "import pandas as pd\n",
    "import seaborn as sns\n",
    "\n",
    "%matplotlib inline"
   ]
  },
  {
   "cell_type": "code",
   "execution_count": 184,
   "metadata": {},
   "outputs": [],
   "source": [
    "START_RECORD=38220\n",
    "COLUMNS=[\n",
    "    'time (ms)',\n",
    "    'altitude (m)',\n",
    "    'latitude',\n",
    "    'longitude',\n",
    "    'pitch',\n",
    "    'roll',\n",
    "    'yaw',\n",
    "    'accel_x (g)',\n",
    "    'accel_y (g)',\n",
    "    'accel_z (g)',\n",
    "    'velocity (m/s)',\n",
    "    'brake percentage',\n",
    "    'actual brake value',\n",
    "    'gps fix',\n",
    "    'gps fix quality'\n",
    "]\n",
    "\n",
    "data = pd.read_csv('LOG copy 2.CSV', names=COLUMNS) #[START_RECORD:]\n",
    "data = data.sort_values('time (ms)').reset_index(drop=True)\n",
    "telemetry_data = pd.read_csv('data_radio2019-06-21 .CSV', names=COLUMNS)\n",
    "#sns.lineplot(x=data['time (ms)'], y=data['altitude (m)'])"
   ]
  },
  {
   "cell_type": "code",
   "execution_count": 154,
   "metadata": {},
   "outputs": [
    {
     "data": {
      "text/plain": [
       "time (ms)             3556\n",
       "altitude (m)          3556\n",
       "latitude              3556\n",
       "longitude             3556\n",
       "pitch                 3556\n",
       "roll                  3556\n",
       "yaw                   3556\n",
       "accel_x (g)           3556\n",
       "accel_y (g)           3556\n",
       "accel_z (g)           3556\n",
       "velocity (m/s)        3556\n",
       "brake percentage      3556\n",
       "actual brake value    3556\n",
       "gps fix               3556\n",
       "gps fix quality       3556\n",
       "dtype: int64"
      ]
     },
     "execution_count": 154,
     "metadata": {},
     "output_type": "execute_result"
    }
   ],
   "source": [
    "ASCENT_DURATION = 3000\n",
    "DECENT_DURATION = 10000\n",
    "APOGEE = 1049777\n",
    "\n",
    "flight = data[(data['time (ms)'] > 969205) & (data['time (ms)'] < 1223042)]\n",
    "flight.count()"
   ]
  },
  {
   "cell_type": "code",
   "execution_count": 155,
   "metadata": {},
   "outputs": [
    {
     "data": {
      "text/plain": [
       "<matplotlib.axes._subplots.AxesSubplot at 0x183983c18>"
      ]
     },
     "execution_count": 155,
     "metadata": {},
     "output_type": "execute_result"
    },
    {
     "data": {
      "image/png": "[encoded data removed]",
      "text/plain": [
       "<Figure size 432x288 with 1 Axes>"
      ]
     },
     "metadata": {
      "needs_background": "light"
     },
     "output_type": "display_data"
    }
   ],
   "source": [
    "sns.lineplot(x=flight['time (ms)'], y=flight['altitude (m)'])"
   ]
  },
  {
   "cell_type": "code",
   "execution_count": 185,
   "metadata": {
    "scrolled": true
   },
   "outputs": [
    {
     "data": {
      "text/plain": [
       "<matplotlib.axes._subplots.AxesSubplot at 0x19566cd68>"
      ]
     },
     "execution_count": 185,
     "metadata": {},
     "output_type": "execute_result"
    },
    {
     "data": {
      "image/png": "[encoded data removed]",
      "text/plain": [
       "<Figure size 432x288 with 1 Axes>"
      ]
     },
     "metadata": {
      "needs_background": "light"
     },
     "output_type": "display_data"
    }
   ],
   "source": [
    "data[(data['time (ms)'] > 933745) & (data['time (ms)'] < 1223042)]['accel_y (g)'].plot()"
   ]
  },
  {
   "cell_type": "code",
   "execution_count": 171,
   "metadata": {},
   "outputs": [
    {
     "data": {
      "text/plain": [
       "<matplotlib.axes._subplots.AxesSubplot at 0x1953be8d0>"
      ]
     },
     "execution_count": 171,
     "metadata": {},
     "output_type": "execute_result"
    },
    {
     "data": {
      "image/png": "[encoded data removed]",
      "text/plain": [
       "<Figure size 432x288 with 1 Axes>"
      ]
     },
     "metadata": {
      "needs_background": "light"
     },
     "output_type": "display_data"
    }
   ],
   "source": [
    "telemetry_data[2950:]['altitude (m)'].plot()\n"
   ]
  },
  {
   "cell_type": "code",
   "execution_count": 182,
   "metadata": {},
   "outputs": [
    {
     "data": {
      "text/plain": [
       "numpy.float64"
      ]
     },
     "execution_count": 182,
     "metadata": {},
     "output_type": "execute_result"
    }
   ],
   "source": [
    "type(data['accel_z (g)'][0])\n"
   ]
  },
  {
   "cell_type": "code",
   "execution_count": null,
   "metadata": {},
   "outputs": [],
   "source": []
  },
  {
   "cell_type": "code",
   "execution_count": null,
   "metadata": {},
   "outputs": [],
   "source": []
  }
 ],
 "metadata": {
  "kernelspec": {
   "display_name": "Python 3",
   "language": "python",
   "name": "python3"
  },
  "language_info": {
   "codemirror_mode": {
    "name": "ipython",
    "version": 3
   },
   "file_extension": ".py",
   "mimetype": "text/x-python",
   "name": "python",
   "nbconvert_exporter": "python",
   "pygments_lexer": "ipython3",
   "version": "3.7.3"
  }
 },
 "nbformat": 4,
 "nbformat_minor": 2
}
